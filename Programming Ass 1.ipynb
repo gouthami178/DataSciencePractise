{
 "cells": [
  {
   "cell_type": "code",
   "execution_count": 1,
   "id": "d132b769",
   "metadata": {},
   "outputs": [
    {
     "name": "stdout",
     "output_type": "stream",
     "text": [
      "Hello Python\n"
     ]
    }
   ],
   "source": [
    "#1.\tWrite a Python program to print \"Hello Python\"?\n",
    "\n",
    "print(\"Hello Python\")"
   ]
  },
  {
   "cell_type": "code",
   "execution_count": 5,
   "id": "100c6c27",
   "metadata": {},
   "outputs": [
    {
     "name": "stdout",
     "output_type": "stream",
     "text": [
      "15 \n",
      " 2.0\n"
     ]
    }
   ],
   "source": [
    "#2.\tWrite a Python program to do arithmetical operations addition and division.?\n",
    "a=10\n",
    "b=5\n",
    "add = a + b\n",
    "div = a/b\n",
    "print(add,\"\\n\",div)"
   ]
  },
  {
   "cell_type": "code",
   "execution_count": 7,
   "id": "3baf5ec0",
   "metadata": {},
   "outputs": [
    {
     "name": "stdout",
     "output_type": "stream",
     "text": [
      "enter height of triangle10\n",
      "enter base of triangle10\n"
     ]
    },
    {
     "data": {
      "text/plain": [
       "50.0"
      ]
     },
     "execution_count": 7,
     "metadata": {},
     "output_type": "execute_result"
    }
   ],
   "source": [
    "#3.\tWrite a Python program to find the area of a triangle?\n",
    "height = int(input(\"enter height of triangle\"))\n",
    "base = int(input(\"enter base of triangle\"))\n",
    "Area = 0.5 * base * height\n",
    "Area"
   ]
  },
  {
   "cell_type": "code",
   "execution_count": 12,
   "id": "7a1486c3",
   "metadata": {},
   "outputs": [
    {
     "name": "stdout",
     "output_type": "stream",
     "text": [
      "enter two number to swap1\n",
      "2\n",
      "swaped number are 2 1\n"
     ]
    }
   ],
   "source": [
    "#4.\tWrite a Python program to swap two variables?\n",
    "a = int(input(\"enter two number to swap\"))\n",
    "b = int(input())\n",
    "[a,b]=[b,a]\n",
    "print(\"swaped number are\", a,b)"
   ]
  },
  {
   "cell_type": "code",
   "execution_count": 14,
   "id": "89d87adb",
   "metadata": {},
   "outputs": [
    {
     "name": "stdout",
     "output_type": "stream",
     "text": [
      "7\n"
     ]
    }
   ],
   "source": [
    "#5.\tWrite a Python program to generate a random number?\n",
    "import random\n",
    "a = random.randint(0,10)\n",
    "print(a)"
   ]
  }
 ],
 "metadata": {
  "kernelspec": {
   "display_name": "Python 3 (ipykernel)",
   "language": "python",
   "name": "python3"
  },
  "language_info": {
   "codemirror_mode": {
    "name": "ipython",
    "version": 3
   },
   "file_extension": ".py",
   "mimetype": "text/x-python",
   "name": "python",
   "nbconvert_exporter": "python",
   "pygments_lexer": "ipython3",
   "version": "3.9.12"
  }
 },
 "nbformat": 4,
 "nbformat_minor": 5
}
