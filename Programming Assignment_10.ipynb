{
 "cells": [
  {
   "cell_type": "code",
   "execution_count": 3,
   "id": "e1441106",
   "metadata": {},
   "outputs": [
    {
     "name": "stdout",
     "output_type": "stream",
     "text": [
      "enter length of list 5\n",
      " enter a elemet1\n",
      " enter a elemet2\n",
      " enter a elemet3\n",
      " enter a elemet4\n",
      " enter a elemet5\n",
      "sum is 15\n"
     ]
    }
   ],
   "source": [
    "#1. Write a Python program to find sum of elements in list?\n",
    "n = int(input(\"enter length of list \"))\n",
    "a = []\n",
    "for i in range(n):\n",
    "    a.append(int(input(\" enter a elemet\")))\n",
    "print(\"sum is\",sum(a))"
   ]
  },
  {
   "cell_type": "code",
   "execution_count": 4,
   "id": "c4b53c47",
   "metadata": {},
   "outputs": [
    {
     "name": "stdout",
     "output_type": "stream",
     "text": [
      "enter length of list 5\n",
      " enter a elemet1\n",
      " enter a elemet2\n",
      " enter a elemet3\n",
      " enter a elemet4\n",
      " enter a elemet5\n",
      "mul is 120\n"
     ]
    }
   ],
   "source": [
    "#2. Write a Python program to Multiply all numbers in the list?\n",
    "n = int(input(\"enter length of list \"))\n",
    "a = []\n",
    "mul = 1\n",
    "for i in range(n):\n",
    "    temp = int(input(\" enter a elemet\"))\n",
    "    a.append(temp)\n",
    "    mul = mul * temp\n",
    "print(\"mul is\",mul)"
   ]
  },
  {
   "cell_type": "code",
   "execution_count": 14,
   "id": "5dc6592d",
   "metadata": {},
   "outputs": [
    {
     "name": "stdout",
     "output_type": "stream",
     "text": [
      "smallest number is  1\n"
     ]
    }
   ],
   "source": [
    "#3. Write a Python program to find smallest number in a list?\n",
    "a = [1,5,3,7,2]\n",
    "b = sorted(a)   \n",
    "print(\"smallest number is \", b[0])"
   ]
  },
  {
   "cell_type": "code",
   "execution_count": 15,
   "id": "1335881e",
   "metadata": {},
   "outputs": [
    {
     "name": "stdout",
     "output_type": "stream",
     "text": [
      "largest number is  7\n"
     ]
    }
   ],
   "source": [
    "#4. Write a Python program to find largest number in a list?\n",
    "a = [1,5,3,7,2]\n",
    "b = sorted(a)   \n",
    "print(\"largest number is \", b[-1])"
   ]
  },
  {
   "cell_type": "code",
   "execution_count": 16,
   "id": "5ee87ead",
   "metadata": {},
   "outputs": [
    {
     "name": "stdout",
     "output_type": "stream",
     "text": [
      "2nd largest number is  5\n"
     ]
    }
   ],
   "source": [
    "# 5. Write a Python program to find second largest number in a list?\n",
    "a = [1,5,3,7,2]\n",
    "b = sorted(a)   \n",
    "print(\"2nd largest number is \", b[-2])"
   ]
  },
  {
   "cell_type": "code",
   "execution_count": 26,
   "id": "8ee59f0e",
   "metadata": {},
   "outputs": [
    {
     "name": "stdout",
     "output_type": "stream",
     "text": [
      "enter no of large numbers to print from list3\n",
      "2nd largest number is  [7, 5, 3]\n"
     ]
    }
   ],
   "source": [
    "#6. Write a Python program to find N largest elements from a list?\n",
    "a = [6,1,5,3,7,2]\n",
    "k = int(input(\"enter no of large numbers to print from list\"))\n",
    "b = sorted(a)   \n",
    "\n",
    "print(\"2nd largest number is \", b[-1:-k-1:-1])"
   ]
  },
  {
   "cell_type": "code",
   "execution_count": 27,
   "id": "10c32d4f",
   "metadata": {},
   "outputs": [
    {
     "name": "stdout",
     "output_type": "stream",
     "text": [
      "[6, 2]\n"
     ]
    }
   ],
   "source": [
    "#7. Write a Python program to print even numbers in a list?\n",
    "a = [6,1,5,3,7,2]\n",
    "b = []\n",
    "for i in a:\n",
    "    if(i%2 == 0):\n",
    "        b.append(i)\n",
    "print(b)\n"
   ]
  },
  {
   "cell_type": "code",
   "execution_count": 43,
   "id": "9f05b9cc",
   "metadata": {},
   "outputs": [
    {
     "name": "stdout",
     "output_type": "stream",
     "text": [
      "[1, 5, 3, 7]\n"
     ]
    }
   ],
   "source": [
    "# 8. Write a Python program to print odd numbers in a List?\n",
    "a = [6,1,5,3,7,2]\n",
    "b = []\n",
    "for i in a:\n",
    "    if(i%2 == 1):\n",
    "        b.append(i)\n",
    "print(b)\n"
   ]
  },
  {
   "cell_type": "code",
   "execution_count": 44,
   "id": "617024fa",
   "metadata": {},
   "outputs": [
    {
     "name": "stdout",
     "output_type": "stream",
     "text": [
      "[6, 1, 5, 3, 7, 2]\n"
     ]
    }
   ],
   "source": [
    "#9. Write a Python program to Remove empty List from List?\n",
    "a = [6,1,5,3,[],7,2,[]]\n",
    "if [] in a:\n",
    "    while([] in a):\n",
    "        a.remove([])\n",
    "    print(a)\n",
    "else:\n",
    "    print(\"[] doesnt exist\")\n"
   ]
  },
  {
   "cell_type": "code",
   "execution_count": 45,
   "id": "4be3f64a",
   "metadata": {},
   "outputs": [
    {
     "name": "stdout",
     "output_type": "stream",
     "text": [
      "[6, 1, 5, 3, 7, 2] 2376222617408\n",
      "[6, 1, 5, 3, 7, 2] 2376222615232\n"
     ]
    }
   ],
   "source": [
    "#10. Write a Python program to Cloning or Copying a list?\n",
    "a = [6,1,5,3,7,2]\n",
    "b = a.copy()\n",
    "print(a, id(a))\n",
    "print(b, id(b))"
   ]
  },
  {
   "cell_type": "code",
   "execution_count": 46,
   "id": "ba917a2f",
   "metadata": {},
   "outputs": [
    {
     "name": "stdout",
     "output_type": "stream",
     "text": [
      "enter a number to count from list1\n",
      " count  3\n"
     ]
    }
   ],
   "source": [
    "#11. Write a Python program to Count occurrences of an element in a list?\n",
    "a = [6,1,5,3,1,7,2,1]\n",
    "k = int(input(\"enter a number to count from list\"))\n",
    "count = 0\n",
    "for i in a:\n",
    "    if(i == k):\n",
    "        count += 1\n",
    "print(\" count \", count)"
   ]
  }
 ],
 "metadata": {
  "kernelspec": {
   "display_name": "Python 3 (ipykernel)",
   "language": "python",
   "name": "python3"
  },
  "language_info": {
   "codemirror_mode": {
    "name": "ipython",
    "version": 3
   },
   "file_extension": ".py",
   "mimetype": "text/x-python",
   "name": "python",
   "nbconvert_exporter": "python",
   "pygments_lexer": "ipython3",
   "version": "3.9.12"
  }
 },
 "nbformat": 4,
 "nbformat_minor": 5
}
