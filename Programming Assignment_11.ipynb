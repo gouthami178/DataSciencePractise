{
 "cells": [
  {
   "cell_type": "code",
   "execution_count": 8,
   "id": "5f627b95",
   "metadata": {},
   "outputs": [
    {
     "name": "stdout",
     "output_type": "stream",
     "text": [
      "enter stringWrite a Python program to find words which are greater than given length k\n",
      "enter the length of the words4\n",
      "words greater than  4 are \n",
      " ['Write', 'Python', 'program', 'words', 'which', 'greater', 'given', 'length']\n"
     ]
    }
   ],
   "source": [
    "#1. Write a Python program to find words which are greater than given length k?\n",
    "a = input(\"enter string\")\n",
    "n = int(input(\"enter the length of the words\"))\n",
    "b = a.split(\" \")\n",
    "c = []\n",
    "for i in b:\n",
    "    if(len(i) > n):\n",
    "        c.append(i)\n",
    "        \n",
    "print(\"words greater than \", n,\"are\",\"\\n\", c) "
   ]
  },
  {
   "cell_type": "code",
   "execution_count": 13,
   "id": "65526891",
   "metadata": {},
   "outputs": [
    {
     "name": "stdout",
     "output_type": "stream",
     "text": [
      "enter the ith char to remove 10\n",
      "Write a Pyhon program for removing i-th character from a string?\n"
     ]
    }
   ],
   "source": [
    "#2. Write a Python program for removing i-th character from a string?\n",
    "a = \"Write a Python program for removing i-th character from a string?\"\n",
    "n = int(input(\"enter the ith char to remove \"))\n",
    "b = ''\n",
    "\n",
    "for i in range(len(a)):\n",
    "    if(i != n):\n",
    "        b = b + a[i]\n",
    "print(b)\n"
   ]
  },
  {
   "cell_type": "code",
   "execution_count": 17,
   "id": "e8ee592b",
   "metadata": {},
   "outputs": [
    {
     "name": "stdout",
     "output_type": "stream",
     "text": [
      "['Write', 'a', 'Python', 'program', 'to', 'split', 'and', 'join', 'a', 'string?']\n",
      "Write a Python program to split and join a string?\n"
     ]
    }
   ],
   "source": [
    "#3. Write a Python program to split and join a string?\n",
    "a = \"Write a Python program to split and join a string?\"\n",
    "b = a.rsplit(' ')\n",
    "print(b)\n",
    "c = ' '.join(b)\n",
    "print(c)"
   ]
  },
  {
   "cell_type": "code",
   "execution_count": 20,
   "id": "50c74552",
   "metadata": {},
   "outputs": [
    {
     "name": "stdout",
     "output_type": "stream",
     "text": [
      "not binary string\n"
     ]
    }
   ],
   "source": [
    "#4. Write a Python to check if a given string is binary string or not?\n",
    "a = \"1011b11\"\n",
    "bi = 1\n",
    "for i in a:\n",
    "    if (i in ['0','1']):\n",
    "       bi = 1\n",
    "    else:\n",
    "        bi = 0\n",
    "        print(\"not binary string\")\n",
    "        break\n",
    "if bi == 1:\n",
    "    print('binary string')\n",
    "    "
   ]
  },
  {
   "cell_type": "code",
   "execution_count": 15,
   "id": "6ee2a74f",
   "metadata": {},
   "outputs": [
    {
     "name": "stdout",
     "output_type": "stream",
     "text": [
      "duplicate words are ['Write', 'a', 'Python', 'to', 'string']\n"
     ]
    }
   ],
   "source": [
    "#5. Write a Python program to find uncommon words from two Strings?\n",
    "st1 = \"Write a Python program to find uncommon words from two string ?\"\n",
    "st2 = \"Write a Python to check if a given string is binary string or not?\"\n",
    "\n",
    "s_st1 = st1.rsplit(' ')\n",
    "s_st2 = st2.rsplit(' ')\n",
    "\n",
    "dup = []\n",
    "n_dup = []\n",
    "\n",
    "for i in (s_st1):\n",
    "    if i in s_st2:\n",
    "        dup.append(i)\n",
    "    else:\n",
    "        n_dup.append(i)\n",
    "        \n",
    "print(\"duplicate words are\", dup)            "
   ]
  },
  {
   "cell_type": "code",
   "execution_count": 6,
   "id": "041ce3ee",
   "metadata": {},
   "outputs": [
    {
     "name": "stdout",
     "output_type": "stream",
     "text": [
      "[' ', 't', 'o', 'i', 'n', 'a', 'l', 'd', 'e', 'c', 'h', 'r', 's']\n"
     ]
    }
   ],
   "source": [
    "#6. Write a Python to find all duplicate characters in string?\n",
    "st1 = \"Write a Python to find all duplicate characters in string? \"\n",
    "dup =[]\n",
    "n_dup =[]\n",
    "for i in st1:\n",
    "    if i not in n_dup:\n",
    "        n_dup.append(i)\n",
    "    else:\n",
    "        if i not in dup:\n",
    "            dup.append(i)\n",
    "        \n",
    "print(dup)\n"
   ]
  },
  {
   "cell_type": "code",
   "execution_count": 8,
   "id": "5abb89b3",
   "metadata": {},
   "outputs": [
    {
     "name": "stdout",
     "output_type": "stream",
     "text": [
      "string have special char\n"
     ]
    }
   ],
   "source": [
    "#7. Write a Python Program to check if a string contains any special character?\n",
    "# 48 to 57 numbers\n",
    "# 65 to 90 AtoZ\n",
    "#97 to 122 atoz\n",
    "# 0 to 31 control charcters\n",
    "\n",
    "st1 = \"Write a Python Program * if a ^s any special character?\"\n",
    "\n",
    "for i in st1:\n",
    "    CharToAscii = ord(i)\n",
    "    if(not(CharToAscii <=32 or \n",
    "       (CharToAscii >=48 and CharToAscii <= 57) or\n",
    "       (CharToAscii >=65 and CharToAscii <= 90) or\n",
    "       (CharToAscii >=97 and CharToAscii <= 122)\n",
    "      )):\n",
    "        print(\"string have special char\")\n",
    "        break\n",
    "        \n",
    "    "
   ]
  }
 ],
 "metadata": {
  "kernelspec": {
   "display_name": "Python 3 (ipykernel)",
   "language": "python",
   "name": "python3"
  },
  "language_info": {
   "codemirror_mode": {
    "name": "ipython",
    "version": 3
   },
   "file_extension": ".py",
   "mimetype": "text/x-python",
   "name": "python",
   "nbconvert_exporter": "python",
   "pygments_lexer": "ipython3",
   "version": "3.9.12"
  }
 },
 "nbformat": 4,
 "nbformat_minor": 5
}
