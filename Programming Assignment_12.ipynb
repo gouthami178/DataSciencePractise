{
 "cells": [
  {
   "cell_type": "code",
   "execution_count": 9,
   "id": "addc310a",
   "metadata": {},
   "outputs": [
    {
     "name": "stdout",
     "output_type": "stream",
     "text": [
      "dictonary values  dict_values(['esha', 'cat', 'kitty', 'kvk', 'ttt'])\n",
      "unique values  ['esha', 'cat', 'kitty', 'kvk', 'ttt']\n"
     ]
    }
   ],
   "source": [
    "#1. Write a Python program to Extract Unique values dictionary values?\n",
    "data = {1:'esha',2:'cat',3:'kitty',4:'kvk',5:'ttt'}\n",
    "\n",
    "print(\"dictonary values \", data.values())\n",
    "print(f\"unique values \", list(data.values()))"
   ]
  },
  {
   "cell_type": "code",
   "execution_count": 10,
   "id": "ced3db00",
   "metadata": {},
   "outputs": [
    {
     "name": "stdout",
     "output_type": "stream",
     "text": [
      "17\n"
     ]
    }
   ],
   "source": [
    "#2. Write a Python program to find the sum of all items in a dictionary?\n",
    "data = {'a':3,'c':6,'b': 8}\n",
    "print(sum(data.values()))"
   ]
  },
  {
   "cell_type": "code",
   "execution_count": 12,
   "id": "afdaeac2",
   "metadata": {},
   "outputs": [
    {
     "name": "stdout",
     "output_type": "stream",
     "text": [
      "{'ass12': 'aaa', 1: 'ggg'}\n"
     ]
    }
   ],
   "source": [
    "#3. Write a Python program to Merging two Dictionaries?\n",
    "a = {'ass12':'aaa'}\n",
    "b = {1:'ggg'}\n",
    "\n",
    "a.update(b)\n",
    "print(a)"
   ]
  },
  {
   "cell_type": "code",
   "execution_count": 19,
   "id": "8fe13fc8",
   "metadata": {},
   "outputs": [
    {
     "name": "stdout",
     "output_type": "stream",
     "text": [
      "{'a': 3, 'c': 6, 'b': 8}\n"
     ]
    }
   ],
   "source": [
    "#4. Write a Python program to convert key-values list to flat dictionary?\n",
    "data = [('a',3),('c',6),('b', 8)]\n",
    "d ={}\n",
    "\n",
    "for i in data:\n",
    "    d[i[0]] = i[1]\n",
    "    \n",
    "print(d)"
   ]
  },
  {
   "cell_type": "code",
   "execution_count": 20,
   "id": "37532246",
   "metadata": {},
   "outputs": [
    {
     "name": "stdout",
     "output_type": "stream",
     "text": [
      "{'a': 3, 'c': 6, 'b': 8, 'f': 2}\n"
     ]
    }
   ],
   "source": [
    "# 5. Write a Python program to insertion at the beginning in OrderedDict?\n",
    "data = {'a':3,'c':6,'b': 8}\n",
    "new = {'f':2}\n",
    "data.update(new)\n",
    "print(\"insert at start\",data)"
   ]
  },
  {
   "cell_type": "code",
   "execution_count": 22,
   "id": "6dc81ab3",
   "metadata": {},
   "outputs": [
    {
     "name": "stdout",
     "output_type": "stream",
     "text": [
      "[('a', 3), ('b', 8), ('c', 6), ('f', 2)]\n"
     ]
    }
   ],
   "source": [
    "#6. Write a Python program to check order of character in string using OrderedDict()?\n",
    "data = {'a': 3, 'c': 6, 'b': 8, 'f': 2}\n",
    "print(sorted(data.items()))\n"
   ]
  },
  {
   "cell_type": "code",
   "execution_count": 27,
   "id": "53c0e642",
   "metadata": {},
   "outputs": [
    {
     "name": "stdout",
     "output_type": "stream",
     "text": [
      "[('a', 3), ('b', 8), ('c', 6), ('f', 2)]\n",
      "[('f', 2), ('a', 3), ('c', 6), ('b', 8)]\n"
     ]
    }
   ],
   "source": [
    "#7. Write a Python program to sort Python Dictionaries by Key or Value?\n",
    "data = {'a': 3, 'c': 6, 'b': 8, 'f': 2}\n",
    "\n",
    "print(sorted(data.items(),key = lambda x:x[0]))\n",
    "\n",
    "print(sorted(data.items(),key = lambda x:x[1]))\n"
   ]
  }
 ],
 "metadata": {
  "kernelspec": {
   "display_name": "Python 3 (ipykernel)",
   "language": "python",
   "name": "python3"
  },
  "language_info": {
   "codemirror_mode": {
    "name": "ipython",
    "version": 3
   },
   "file_extension": ".py",
   "mimetype": "text/x-python",
   "name": "python",
   "nbconvert_exporter": "python",
   "pygments_lexer": "ipython3",
   "version": "3.9.12"
  }
 },
 "nbformat": 4,
 "nbformat_minor": 5
}
