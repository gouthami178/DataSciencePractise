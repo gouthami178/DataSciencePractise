{
 "cells": [
  {
   "cell_type": "code",
   "execution_count": 5,
   "id": "e01d0394",
   "metadata": {},
   "outputs": [
    {
     "name": "stdout",
     "output_type": "stream",
     "text": [
      "enter value of D 100,150,180\n",
      "[18, 22, 24]\n"
     ]
    }
   ],
   "source": [
    "#1. \n",
    "from math import sqrt\n",
    "D = eval(input(\"enter value of D \"))\n",
    "C = 50\n",
    "H = 30\n",
    "\n",
    "q = []\n",
    "\n",
    "for i in D:\n",
    "    q.append(int(sqrt((2*C*i)/H)))\n",
    "    \n",
    "print(q)"
   ]
  },
  {
   "cell_type": "code",
   "execution_count": 6,
   "id": "96384c79",
   "metadata": {},
   "outputs": [
    {
     "name": "stdout",
     "output_type": "stream",
     "text": [
      "enter rows 3\n",
      "enter columns 5\n",
      "[[0, 0, 0, 0, 0], [0, 1, 2, 3, 4], [0, 2, 4, 6, 8]]\n"
     ]
    }
   ],
   "source": [
    "#2\n",
    "r = int(input(\"enter rows \"))\n",
    "c = int(input(\"enter columns \"))\n",
    "\n",
    "a = []\n",
    "for i in range(r):\n",
    "    a.insert(r,[])\n",
    "    for j in range(c):\n",
    "        a[i].append(i*j)\n",
    "print(a)"
   ]
  },
  {
   "cell_type": "code",
   "execution_count": 8,
   "id": "3d07eda1",
   "metadata": {},
   "outputs": [
    {
     "name": "stdout",
     "output_type": "stream",
     "text": [
      "enter the input string seperated by , my,name,is,ggg\n",
      "['ggg', 'is', 'my', 'name']\n"
     ]
    }
   ],
   "source": [
    "#3. \n",
    "a = input(\"enter the input string seperated by , \")\n",
    "print(sorted(a.split(',')))"
   ]
  },
  {
   "cell_type": "code",
   "execution_count": 8,
   "id": "ec208d3b",
   "metadata": {},
   "outputs": [
    {
     "name": "stdout",
     "output_type": "stream",
     "text": [
      " again and hello makes perfect practice world\n"
     ]
    }
   ],
   "source": [
    "#4 4.Write a program that accepts a sequence of whitespace separated words as input and prints the words after removing all duplicate words and sorting them alphanumerically.\n",
    "\n",
    "in_str = \"hello world and practice makes perfect and hello world again\"\n",
    "a = sorted(in_str.split(\" \"))\n",
    "\n",
    "out_str = \"\"\n",
    "for i in a:\n",
    "    if i not in out_str:\n",
    "        out_str = out_str + ' ' + i\n",
    "print(out_str)  "
   ]
  },
  {
   "cell_type": "code",
   "execution_count": 13,
   "id": "05c1e83a",
   "metadata": {},
   "outputs": [
    {
     "name": "stdout",
     "output_type": "stream",
     "text": [
      " total digits 3\n",
      " total letters 10\n"
     ]
    }
   ],
   "source": [
    "#5. Write a program that accepts a sentence and calculate the number of letters and digits.\n",
    "in_str = \"hello world! 123\"\n",
    "digits = 0\n",
    "letters = 0\n",
    "for i in (in_str):\n",
    "    temp = ord(i)\n",
    "    if(temp <= 57 and temp >= 48 ):\n",
    "        digits = digits+1\n",
    "    if((temp <= 90 and temp >= 65) or\n",
    "       (temp <= 122 and temp >= 97)):\n",
    "        letters = letters+1\n",
    "print(\" total digits\",digits)\n",
    "print(\" total letters\",letters)"
   ]
  },
  {
   "cell_type": "code",
   "execution_count": 19,
   "id": "b57b8f3c",
   "metadata": {},
   "outputs": [
    {
     "name": "stdout",
     "output_type": "stream",
     "text": [
      "ABd1234@1\n"
     ]
    }
   ],
   "source": [
    "#6 A website requires the users to input username and password to register. Write a program to check the validity of password input by users.\n",
    "in_str = \"ABd1234@1,a F1#,2w3E*,2We3345\"\n",
    "a = in_str.split(\",\")\n",
    "ch = \"$#@\"\n",
    "for i in a:  \n",
    "    check = [0,0,0,0]\n",
    "    if(len(i) >= 6 and len(i) <=12):\n",
    "        check[3] = 1\n",
    "        for j in i:\n",
    "            temp1 = ord(j)\n",
    "            if((temp1 <= 57 and temp1 >= 48)):\n",
    "                check[0] = check[0] + 1\n",
    "            elif((temp1 <= 90 and temp1 >= 65) or (temp1 <= 122 and temp1 >= 97)):\n",
    "                check[1] = check[1] + 1\n",
    "            elif (j in ch):\n",
    "                check[2] = check[2] + 1\n",
    "    if (not(0 in check)):\n",
    "        print(i)"
   ]
  }
 ],
 "metadata": {
  "kernelspec": {
   "display_name": "Python 3 (ipykernel)",
   "language": "python",
   "name": "python3"
  },
  "language_info": {
   "codemirror_mode": {
    "name": "ipython",
    "version": 3
   },
   "file_extension": ".py",
   "mimetype": "text/x-python",
   "name": "python",
   "nbconvert_exporter": "python",
   "pygments_lexer": "ipython3",
   "version": "3.9.12"
  }
 },
 "nbformat": 4,
 "nbformat_minor": 5
}
