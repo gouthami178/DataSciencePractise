{
 "cells": [
  {
   "cell_type": "code",
   "execution_count": 2,
   "id": "0be9580c",
   "metadata": {},
   "outputs": [
    {
     "name": "stdout",
     "output_type": "stream",
     "text": [
      "enter the number to find factorial 8\n",
      "factorial is : \n",
      "40320\n"
     ]
    }
   ],
   "source": [
    "\"\"\"\n",
    "1. Write a Python Program to Find the Factorial of a Number?\n",
    "\"\"\"\n",
    "n = int(input(\"enter the number to find factorial \"))\n",
    "\n",
    "print(\"factorial is : \")\n",
    "fact = 1;\n",
    "for i in range(1,(n+1)):\n",
    "    fact = fact * i\n",
    "print(fact)"
   ]
  },
  {
   "cell_type": "code",
   "execution_count": 2,
   "id": "45f1190c",
   "metadata": {},
   "outputs": [
    {
     "name": "stdout",
     "output_type": "stream",
     "text": [
      "enter the number to print multipication table 12\n",
      "12  *  1 = 12\n",
      "12  *  2 = 24\n",
      "12  *  3 = 36\n",
      "12  *  4 = 48\n",
      "12  *  5 = 60\n",
      "12  *  6 = 72\n",
      "12  *  7 = 84\n",
      "12  *  8 = 96\n",
      "12  *  9 = 108\n",
      "12  *  10 = 120\n"
     ]
    }
   ],
   "source": [
    "#2. Write a Python Program to Display the multiplication Table?\n",
    "n = int(input(\"enter the number to print multipication table \"))\n",
    "\n",
    "for i in range(1,11):\n",
    "    print(n ,\" * \", i ,\"=\" ,(n*i))"
   ]
  },
  {
   "cell_type": "code",
   "execution_count": 4,
   "id": "e3325d16",
   "metadata": {},
   "outputs": [
    {
     "name": "stdout",
     "output_type": "stream",
     "text": [
      "enter the number to print Fibonacci sequence 10\n",
      "0 1 1 2 3 5 8 13 21 34 "
     ]
    }
   ],
   "source": [
    "#3. Write a Python Program to Print the Fibonacci sequence?\n",
    "n = int(input(\"enter the number to print Fibonacci sequence \"))\n",
    "# 0 1 1 2 3\n",
    "a = 0\n",
    "b = 1\n",
    "sum = 0\n",
    "for i in range(1,(n+1)):\n",
    "    print(sum,end= \" \")\n",
    "    sum = a + b\n",
    "    b = a\n",
    "    a = sum"
   ]
  },
  {
   "cell_type": "code",
   "execution_count": 16,
   "id": "a76834d6",
   "metadata": {},
   "outputs": [
    {
     "name": "stdout",
     "output_type": "stream",
     "text": [
      "enter the number to check armstrong number or not 371\n",
      "armstrong number\n"
     ]
    }
   ],
   "source": [
    "#4. Write a Python Program to Check Armstrong Number?\n",
    "\n",
    "n = int(input(\"enter the number to check armstrong number or not \"))\n",
    "temp = n\n",
    "sum = 0\n",
    "while (n/10):\n",
    "    sum = sum + (n%10)**3\n",
    "    n = int(n/10)\n",
    "    \n",
    "if( sum == temp):\n",
    "    print(\"armstrong number\")\n",
    "else:\n",
    "    print(\"not armstrong number\")"
   ]
  },
  {
   "cell_type": "code",
   "execution_count": 21,
   "id": "d5095c1a",
   "metadata": {},
   "outputs": [
    {
     "name": "stdout",
     "output_type": "stream",
     "text": [
      "enter the interval to print armstrong numbers 100\n",
      "400\n",
      "153 370 371 "
     ]
    }
   ],
   "source": [
    "#5. Write a Python Program to Find Armstrong Number in an Interval?\n",
    "low = int(input(\"enter the interval to print armstrong numbers \"))\n",
    "upper = int(input())\n",
    "            \n",
    "for i in range(low,(upper+1)):\n",
    "    n = i\n",
    "    temp = i\n",
    "    sum = 0\n",
    "    while (n/10):\n",
    "        sum = sum + (n%10)**3\n",
    "        n = int(n/10)\n",
    "    if( sum == temp):\n",
    "        print(temp,end= \" \")"
   ]
  },
  {
   "cell_type": "code",
   "execution_count": 14,
   "id": "605ae161",
   "metadata": {},
   "outputs": [
    {
     "name": "stdout",
     "output_type": "stream",
     "text": [
      "enter the number of numbers to Find the Sum of Natural Numbers 10\n",
      "55\n"
     ]
    }
   ],
   "source": [
    "#6. Write a Python Program to Find the Sum of Natural Numbers?\n",
    "\n",
    "n = int(input(\"enter the number of numbers to Find the Sum of Natural Numbers \"))\n",
    "\n",
    "print(int(n*(n+1)/2))\n"
   ]
  }
 ],
 "metadata": {
  "kernelspec": {
   "display_name": "Python 3 (ipykernel)",
   "language": "python",
   "name": "python3"
  },
  "language_info": {
   "codemirror_mode": {
    "name": "ipython",
    "version": 3
   },
   "file_extension": ".py",
   "mimetype": "text/x-python",
   "name": "python",
   "nbconvert_exporter": "python",
   "pygments_lexer": "ipython3",
   "version": "3.9.12"
  }
 },
 "nbformat": 4,
 "nbformat_minor": 5
}
