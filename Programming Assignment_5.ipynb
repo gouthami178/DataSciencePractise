{
 "cells": [
  {
   "cell_type": "code",
   "execution_count": 15,
   "id": "509e5134",
   "metadata": {},
   "outputs": [
    {
     "name": "stdout",
     "output_type": "stream",
     "text": [
      "enter 2 numbers to find LCM 24\n",
      "15\n"
     ]
    },
    {
     "data": {
      "text/plain": [
       "120"
      ]
     },
     "execution_count": 15,
     "metadata": {},
     "output_type": "execute_result"
    }
   ],
   "source": [
    "#1. Write a Python Program to Find LCM?\n",
    "def fact(n):\n",
    "    \"\"\"to find factors of a number\"\"\"\n",
    "    temp = n\n",
    "    l =[]\n",
    "    while (n):\n",
    "        for i in range(2,(n+1)):\n",
    "            if(n%i == 0):\n",
    "                l.append(i)\n",
    "                break\n",
    "        n = int(n/i);\n",
    "    return l\n",
    "def GetLCM(a,b):\n",
    "    # to get factors of a numbers\n",
    "    a_fact = fact(a)\n",
    "    b_fact = fact(b)\n",
    "\n",
    "    #remove common factors\n",
    "    for i in a_fact:\n",
    "        for j in b_fact:\n",
    "            if(i == j):\n",
    "                b_fact.remove(j)\n",
    "    #concatinate two list\n",
    "    LCM = 1\n",
    "    for i in (a_fact + b_fact):\n",
    "        LCM = LCM * i\n",
    "    return LCM\n",
    "\n",
    "a = int(input(\"enter 2 numbers to find LCM \"))\n",
    "b = int(input())\n",
    "GetLCM(a,b)\n"
   ]
  },
  {
   "cell_type": "code",
   "execution_count": 16,
   "id": "988e1bb7",
   "metadata": {},
   "outputs": [
    {
     "name": "stdout",
     "output_type": "stream",
     "text": [
      "enter 2 numbers to find HCF 24\n",
      "15\n",
      "3.0\n"
     ]
    }
   ],
   "source": [
    "# 2. Write a Python Program to Find HCF?\n",
    "a = int(input(\"enter 2 numbers to find HCF \"))\n",
    "b = int(input())\n",
    "\n",
    "LCM = GetLCM(a,b)\n",
    "HCF = (a*b)/LCM\n",
    "print(HCF)"
   ]
  },
  {
   "cell_type": "code",
   "execution_count": 18,
   "id": "38605b5a",
   "metadata": {},
   "outputs": [
    {
     "name": "stdout",
     "output_type": "stream",
     "text": [
      "enter a decimal number to convert 24\n",
      "0b11000 0o30 0x18\n"
     ]
    }
   ],
   "source": [
    "#3. Write a Python Program to Convert Decimal to Binary, Octal and Hexadecimal?\n",
    "\n",
    "a = int(input(\"enter a decimal number to convert \"))\n",
    "\n",
    "print(bin(a) , oct(a) , hex(a))\n",
    "    "
   ]
  },
  {
   "cell_type": "code",
   "execution_count": 26,
   "id": "a23ff4e8",
   "metadata": {},
   "outputs": [
    {
     "name": "stdout",
     "output_type": "stream",
     "text": [
      "enter a character a\n",
      "1 97\n"
     ]
    }
   ],
   "source": [
    "#4. Write a Python Program To Find ASCII value of a character?\n",
    "\n",
    "a = str(input(\"enter a character \"))\n",
    "if(len(a) == 1):\n",
    "    print(ord(a))\n",
    "else:\n",
    "    print(\"not single char\")"
   ]
  },
  {
   "cell_type": "code",
   "execution_count": 30,
   "id": "9a7f358e",
   "metadata": {},
   "outputs": [
    {
     "name": "stdout",
     "output_type": "stream",
     "text": [
      "choose mathematical operation + , - , % , * +\n",
      "enter two numbers1\n",
      "2\n",
      "3\n"
     ]
    }
   ],
   "source": [
    "#5. Write a Python Program to Make a Simple Calculator with 4 basic mathematical operations?\n",
    "\n",
    "oper = str(input(\"choose mathematical operation + , - , % , * \"))\n",
    "\n",
    "a,b = int(input(\"enter two numbers\")),  int(input())\n",
    "\n",
    "if oper == '+':\n",
    "    print(a+b)\n",
    "elif oper == '-':\n",
    "    print(a-b)\n",
    "elif oper == '/':\n",
    "    print(a/b)\n",
    "elif oper == '*':\n",
    "    print(a*b)\n",
    "else:\n",
    "    print(\"none\")\n"
   ]
  }
 ],
 "metadata": {
  "kernelspec": {
   "display_name": "Python 3 (ipykernel)",
   "language": "python",
   "name": "python3"
  },
  "language_info": {
   "codemirror_mode": {
    "name": "ipython",
    "version": 3
   },
   "file_extension": ".py",
   "mimetype": "text/x-python",
   "name": "python",
   "nbconvert_exporter": "python",
   "pygments_lexer": "ipython3",
   "version": "3.9.12"
  }
 },
 "nbformat": 4,
 "nbformat_minor": 5
}
