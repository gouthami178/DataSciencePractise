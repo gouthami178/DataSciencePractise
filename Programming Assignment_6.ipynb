{
 "cells": [
  {
   "cell_type": "code",
   "execution_count": 2,
   "id": "c7790957",
   "metadata": {},
   "outputs": [
    {
     "name": "stdout",
     "output_type": "stream",
     "text": [
      "enter length of fibonacci series 5\n",
      "0 1 1 2 3 5 8 "
     ]
    }
   ],
   "source": [
    "#1. Write a Python Program to Display Fibonacci Sequence Using Recursion?\n",
    "def Fib(n,a,b):\n",
    "    if(n==0):\n",
    "        return 1\n",
    "    else:\n",
    "        res = a+b\n",
    "        print(res, end = \" \")\n",
    "        Fib(n-1,b,res)\n",
    "\n",
    "n = int(input(\"enter length of fibonacci series \"))\n",
    "print('0','1',end = \" \")\n",
    "Fib(n,0,1)\n",
    "\n",
    "    "
   ]
  },
  {
   "cell_type": "code",
   "execution_count": 3,
   "id": "ff974031",
   "metadata": {},
   "outputs": [
    {
     "name": "stdout",
     "output_type": "stream",
     "text": [
      "enter number to find factorial 5\n"
     ]
    },
    {
     "data": {
      "text/plain": [
       "120"
      ]
     },
     "execution_count": 3,
     "metadata": {},
     "output_type": "execute_result"
    }
   ],
   "source": [
    "#2. Write a Python Program to Find Factorial of Number Using Recursion?\n",
    "def fact(n):\n",
    "    if(n == 1):\n",
    "        return 1\n",
    "    else:\n",
    "       return n*fact(n-1)\n",
    "\n",
    "n = int(input(\"enter number to find factorial \"))\n",
    "fact(n)"
   ]
  },
  {
   "cell_type": "code",
   "execution_count": 7,
   "id": "8a5e9ec0",
   "metadata": {},
   "outputs": [
    {
     "name": "stdout",
     "output_type": "stream",
     "text": [
      "enter weight 56\n",
      "enter height 154\n",
      "underweight\n"
     ]
    }
   ],
   "source": [
    "#3. Write a Python Program to calculate your Body Mass Index?\n",
    "\n",
    "Wt = float(input(\"enter weight \"))\n",
    "Ht = float(input(\"enter height \"))\n",
    "\n",
    "bmi = Wt/(Ht*Ht)\n",
    "\n",
    "if(bmi < 18.5):\n",
    "    print(\"underweight\")\n",
    "elif(bmi >=18.5 and bmi < 24.9):\n",
    "    print(\"healthy\")\n",
    "elif(bmi >=24.9 and bmi <30):\n",
    "    print(\"overweight\")\n",
    "elif(bmi >= 30):\n",
    "    print(\"obesity\")\n"
   ]
  },
  {
   "cell_type": "code",
   "execution_count": 11,
   "id": "6bb3fced",
   "metadata": {},
   "outputs": [
    {
     "name": "stdout",
     "output_type": "stream",
     "text": [
      "enter a number 10\n",
      "2.302585092994046\n"
     ]
    }
   ],
   "source": [
    "#4. Write a Python Program to calculate the natural logarithm of any number?\n",
    "import math\n",
    "\n",
    "n = float(input(\"enter a number \"))\n",
    "print(math.log(n))"
   ]
  },
  {
   "cell_type": "code",
   "execution_count": 17,
   "id": "c4dd0bd9",
   "metadata": {},
   "outputs": [
    {
     "name": "stdout",
     "output_type": "stream",
     "text": [
      "enter a number to print cube sum of first n natural numbers3\n",
      "36\n"
     ]
    }
   ],
   "source": [
    "#5. Write a Python Program for cube sum of first n natural numbers?\n",
    "n = int(input(\"enter a number to print cube sum of first n natural numbers\"))\n",
    "sum = 0\n",
    "\n",
    "for i in range(1,(n+1)):\n",
    "    sum = sum + i**3\n",
    "    \n",
    "print(sum)"
   ]
  }
 ],
 "metadata": {
  "kernelspec": {
   "display_name": "Python 3 (ipykernel)",
   "language": "python",
   "name": "python3"
  },
  "language_info": {
   "codemirror_mode": {
    "name": "ipython",
    "version": 3
   },
   "file_extension": ".py",
   "mimetype": "text/x-python",
   "name": "python",
   "nbconvert_exporter": "python",
   "pygments_lexer": "ipython3",
   "version": "3.9.12"
  }
 },
 "nbformat": 4,
 "nbformat_minor": 5
}
