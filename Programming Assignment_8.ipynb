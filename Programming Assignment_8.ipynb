{
 "cells": [
  {
   "cell_type": "code",
   "execution_count": 36,
   "id": "f0d77b97",
   "metadata": {},
   "outputs": [
    {
     "name": "stdout",
     "output_type": "stream",
     "text": [
      "[[10, 10, 10], [10, 10, 10], [10, 10, 10]]\n"
     ]
    }
   ],
   "source": [
    "#1.Write a Python Program to Add Two Matrices?\n",
    "a,b=[[1,2,3],[4,5,6],[7,8,9]],[[9,8,7],[6,5,4],[3,2,1]] \n",
    "s = a\n",
    "if (len(a) == len(b)) and (len(a[0]) == len(b[0])):\n",
    "    for i in range(len(a)):\n",
    "        for j in range(len(a[i])):\n",
    "            s[i][j] = a[i][j] + b[i][j]\n",
    "    print(s)\n",
    "else:\n",
    "    print(\"matrices size is different\")"
   ]
  },
  {
   "cell_type": "code",
   "execution_count": 49,
   "id": "f4bbbb5b",
   "metadata": {},
   "outputs": [
    {
     "name": "stdout",
     "output_type": "stream",
     "text": [
      "[[30, 24, 18], [84, 69, 54], [138, 114, 90]]\n"
     ]
    }
   ],
   "source": [
    "#2. Write a Python Program to Multiply Two Matrices?\n",
    "a,b=[[1,2,3],[4,5,6],[7,8,9]],[[9,8,7],[6,5,4],[3,2,1]] \n",
    "\n",
    "s = []\n",
    "if (len(b) == len(a[0])):\n",
    "    for i in range(len(a[0])):\n",
    "        s.append([0 for i in range(len(b[0]))])\n",
    "    \n",
    "    for i in range(len(a)):\n",
    "        for j in range(len(b[i])):\n",
    "            for k in range(len(b)):\n",
    "                s[i][j] += a[i][k] * b[k][j]\n",
    "    print(s)\n",
    "else:\n",
    "    print(\"matrices size are different multiplication is not possible\")\n"
   ]
  },
  {
   "cell_type": "code",
   "execution_count": 55,
   "id": "0dad36eb",
   "metadata": {},
   "outputs": [
    {
     "data": {
      "text/plain": [
       "[[1, 4, 7], [2, 5, 8], [3, 6, 9]]"
      ]
     },
     "execution_count": 55,
     "metadata": {},
     "output_type": "execute_result"
    }
   ],
   "source": [
    "#3. Write a Python Program to Transpose a Matrix?\n",
    "a = [[1,2,3],[4,5,6],[7,8,9]]\n",
    "s=[]\n",
    "for i in range(len(a[0])):\n",
    "    s.append([0 for i in range(len(a))])\n",
    "for i in range(len(a)):\n",
    "    for j in range(len(a[0])):\n",
    "        s[i][j] = a[j][i]\n",
    "s"
   ]
  },
  {
   "cell_type": "code",
   "execution_count": 76,
   "id": "c86fc066",
   "metadata": {},
   "outputs": [
    {
     "name": "stdout",
     "output_type": "stream",
     "text": [
      "['am', 'course', 'i', 'learning', 'python']\n"
     ]
    }
   ],
   "source": [
    "#4. Write a Python Program to Sort Words in Alphabetic Order?\n",
    "a = \" i am learning python course\"\n",
    "b=[]\n",
    "for i in a.split():\n",
    "    b.append(i)\n",
    "b.sort()   \n",
    "print(b)\n"
   ]
  },
  {
   "cell_type": "code",
   "execution_count": 94,
   "id": "09359f6e",
   "metadata": {},
   "outputs": [
    {
     "name": "stdout",
     "output_type": "stream",
     "text": [
      "enter the string \" testing : the code% & )\n",
      " testing  the code  \n"
     ]
    }
   ],
   "source": [
    "#5. Write a Python Program to Remove Punctuation From a String?\n",
    "# 48 to 57 numbers\n",
    "# 65 to 90 AtoZ\n",
    "#97 to 122 atoz\n",
    "# o to 31 control charcters\n",
    "a = input(\"enter the string \")\n",
    "c = ''\n",
    "for i in a:\n",
    "    CharToAscii = ord(i)\n",
    "    if(CharToAscii <=32 or \n",
    "       (CharToAscii >=48 and CharToAscii <= 57) or\n",
    "       (CharToAscii >=65 and CharToAscii <= 90) or\n",
    "       (CharToAscii >=97 and CharToAscii <= 122)\n",
    "      ):\n",
    "        c += i\n",
    "    \n",
    "print(c)"
   ]
  }
 ],
 "metadata": {
  "kernelspec": {
   "display_name": "Python 3 (ipykernel)",
   "language": "python",
   "name": "python3"
  },
  "language_info": {
   "codemirror_mode": {
    "name": "ipython",
    "version": 3
   },
   "file_extension": ".py",
   "mimetype": "text/x-python",
   "name": "python",
   "nbconvert_exporter": "python",
   "pygments_lexer": "ipython3",
   "version": "3.9.12"
  }
 },
 "nbformat": 4,
 "nbformat_minor": 5
}
