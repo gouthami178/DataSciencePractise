{
 "cells": [
  {
   "cell_type": "code",
   "execution_count": 6,
   "id": "d6f8b123",
   "metadata": {},
   "outputs": [
    {
     "name": "stdout",
     "output_type": "stream",
     "text": [
      "1 7 10 13 19 23 28 31 32 44 49 68 70 79 82 86 91 94 97 100 "
     ]
    }
   ],
   "source": [
    "#4. Write a Python program to print all happy numbers between 1 and 100?\n",
    "first = 1\n",
    "last =100\n",
    "for k in range(first,last+1):\n",
    "    sum = 0\n",
    "    n = k\n",
    "    j = 1\n",
    "    while(k != sum or sum != 1):\n",
    "        while (n > 0):\n",
    "            sum =  sum + (n%10)**2\n",
    "            n = int(n/10)\n",
    "        j = j+1\n",
    "        if( j > 100):\n",
    "            break\n",
    "        if(sum == 1):\n",
    "            print(k, end = \" \")\n",
    "            break\n",
    "        else:\n",
    "            n = sum\n",
    "            sum = 0"
   ]
  },
  {
   "cell_type": "code",
   "execution_count": 7,
   "id": "6c5c7ea5",
   "metadata": {},
   "outputs": [
    {
     "name": "stdout",
     "output_type": "stream",
     "text": [
      " enter the number 7\n",
      "happy number\n"
     ]
    }
   ],
   "source": [
    "#3. Write a Python program to check if the given number is Happy Number?\n",
    "n = int(input(\" enter the number \"))\n",
    "sum = 0\n",
    "temp = n\n",
    "while(temp != sum or sum != 1):\n",
    "    while (n > 0):\n",
    "        sum =  sum + (n%10)**2\n",
    "        n = int(n/10)\n",
    "        \n",
    "    if(sum == 1):\n",
    "        break\n",
    "    else:\n",
    "        n = sum\n",
    "        sum = 0\n",
    "    \n",
    "    \n",
    "if(sum == 1):\n",
    "    print(\"happy number\")\n",
    "else:\n",
    "    print(\"not happy number\")"
   ]
  },
  {
   "cell_type": "code",
   "execution_count": 8,
   "id": "b5812e12",
   "metadata": {},
   "outputs": [
    {
     "name": "stdout",
     "output_type": "stream",
     "text": [
      " enter the number 137\n",
      "not Disarium number\n"
     ]
    }
   ],
   "source": [
    "#1.Write a Python program to check if the given number is a Disarium Number?\n",
    "n = (input(\" enter the number \"))\n",
    "sum = 0\n",
    "i = len(n)\n",
    "n = int(n)\n",
    "temp = n\n",
    "while(n > 0):\n",
    "    sum =  sum + (n%10) **i\n",
    "    n = int(n/10)\n",
    "    i = i-1\n",
    "if(sum == temp):\n",
    "    print(\"Disarium number\")\n",
    "else:\n",
    "    print(\"not Disarium number\")"
   ]
  },
  {
   "cell_type": "code",
   "execution_count": 9,
   "id": "01b04e4c",
   "metadata": {},
   "outputs": [
    {
     "name": "stdout",
     "output_type": "stream",
     "text": [
      "1 2 3 4 5 6 7 8 9 89 "
     ]
    }
   ],
   "source": [
    "#2. Write a Python program to print all disarium numbers between 1 to 100?\n",
    "first = 1\n",
    "last =100\n",
    "for n in range(first,last+1):\n",
    "    sum = 0\n",
    "    i = len(str(n))\n",
    "    t = n\n",
    "    while(n > 0):\n",
    "        sum =  sum + (n%10) **i\n",
    "        n = int(n/10)\n",
    "        i = i-1\n",
    "    if(sum == t):\n",
    "        print(t,end = \" \")"
   ]
  },
  {
   "cell_type": "code",
   "execution_count": 16,
   "id": "b38e5519",
   "metadata": {},
   "outputs": [
    {
     "name": "stdout",
     "output_type": "stream",
     "text": [
      " enter the number 20\n",
      "HArshad number\n"
     ]
    }
   ],
   "source": [
    "#5. Write a Python program to determine whether the given number is a Harshad Number?\n",
    "n = int(input(\" enter the number \"))\n",
    "sum = 0\n",
    "temp = n\n",
    "while(n>0):\n",
    "    sum += (n/10)\n",
    "    n = int(n%10)\n",
    "\n",
    "if((temp%sum) == 0):\n",
    "    print(\"HArshad number\")\n",
    "else:\n",
    "    print(\"not HArshad number\")"
   ]
  },
  {
   "cell_type": "code",
   "execution_count": 18,
   "id": "f8b29948",
   "metadata": {},
   "outputs": [
    {
     "name": "stdout",
     "output_type": "stream",
     "text": [
      "2 6 12 20 30 42 56 72 90 "
     ]
    }
   ],
   "source": [
    "#6. Write a Python program to print all pronic numbers between 1 and 100?\n",
    "for n in range(1,10):\n",
    "    print(n*(n+1), end = \" \")"
   ]
  }
 ],
 "metadata": {
  "kernelspec": {
   "display_name": "Python 3 (ipykernel)",
   "language": "python",
   "name": "python3"
  },
  "language_info": {
   "codemirror_mode": {
    "name": "ipython",
    "version": 3
   },
   "file_extension": ".py",
   "mimetype": "text/x-python",
   "name": "python",
   "nbconvert_exporter": "python",
   "pygments_lexer": "ipython3",
   "version": "3.9.12"
  }
 },
 "nbformat": 4,
 "nbformat_minor": 5
}
