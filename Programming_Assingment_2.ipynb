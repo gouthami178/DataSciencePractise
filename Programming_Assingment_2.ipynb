{
 "cells": [
  {
   "cell_type": "code",
   "execution_count": 4,
   "id": "5a30d385",
   "metadata": {},
   "outputs": [
    {
     "name": "stdout",
     "output_type": "stream",
     "text": [
      "enter KMs value to convert to miles 1.0\n",
      "miles =  0.62\n"
     ]
    }
   ],
   "source": [
    "# 1.Write a Python program to convert kilometers to miles?\n",
    "KMs = float(input(\"enter KMs value to convert to miles \"))\n",
    "print(\"miles = \", (KMs * 0.62 ))"
   ]
  },
  {
   "cell_type": "code",
   "execution_count": 6,
   "id": "ceb2bb05",
   "metadata": {},
   "outputs": [
    {
     "name": "stdout",
     "output_type": "stream",
     "text": [
      "enter Celsius temperature value to convert to Fahrenheit 100\n",
      "Fahrenheit =  212.0\n"
     ]
    }
   ],
   "source": [
    "# 2. Write a Python program to convert Celsius to Fahrenheit?\n",
    "C = float(input(\"enter Celsius temperature value to convert to Fahrenheit \"))\n",
    "print(\"Fahrenheit = \", ((C * (9/5) + 32 )))"
   ]
  },
  {
   "cell_type": "code",
   "execution_count": 23,
   "id": "93074dad",
   "metadata": {},
   "outputs": [
    {
     "name": "stdout",
     "output_type": "stream",
     "text": [
      "enter year of the calender2022\n",
      "                                  2022\n",
      "\n",
      "      January                   February                   March\n",
      "Mo Tu We Th Fr Sa Su      Mo Tu We Th Fr Sa Su      Mo Tu We Th Fr Sa Su\n",
      "                1  2          1  2  3  4  5  6          1  2  3  4  5  6\n",
      " 3  4  5  6  7  8  9       7  8  9 10 11 12 13       7  8  9 10 11 12 13\n",
      "10 11 12 13 14 15 16      14 15 16 17 18 19 20      14 15 16 17 18 19 20\n",
      "17 18 19 20 21 22 23      21 22 23 24 25 26 27      21 22 23 24 25 26 27\n",
      "24 25 26 27 28 29 30      28                        28 29 30 31\n",
      "31\n",
      "\n",
      "       April                      May                       June\n",
      "Mo Tu We Th Fr Sa Su      Mo Tu We Th Fr Sa Su      Mo Tu We Th Fr Sa Su\n",
      "             1  2  3                         1             1  2  3  4  5\n",
      " 4  5  6  7  8  9 10       2  3  4  5  6  7  8       6  7  8  9 10 11 12\n",
      "11 12 13 14 15 16 17       9 10 11 12 13 14 15      13 14 15 16 17 18 19\n",
      "18 19 20 21 22 23 24      16 17 18 19 20 21 22      20 21 22 23 24 25 26\n",
      "25 26 27 28 29 30         23 24 25 26 27 28 29      27 28 29 30\n",
      "                          30 31\n",
      "\n",
      "        July                     August                  September\n",
      "Mo Tu We Th Fr Sa Su      Mo Tu We Th Fr Sa Su      Mo Tu We Th Fr Sa Su\n",
      "             1  2  3       1  2  3  4  5  6  7                1  2  3  4\n",
      " 4  5  6  7  8  9 10       8  9 10 11 12 13 14       5  6  7  8  9 10 11\n",
      "11 12 13 14 15 16 17      15 16 17 18 19 20 21      12 13 14 15 16 17 18\n",
      "18 19 20 21 22 23 24      22 23 24 25 26 27 28      19 20 21 22 23 24 25\n",
      "25 26 27 28 29 30 31      29 30 31                  26 27 28 29 30\n",
      "\n",
      "      October                   November                  December\n",
      "Mo Tu We Th Fr Sa Su      Mo Tu We Th Fr Sa Su      Mo Tu We Th Fr Sa Su\n",
      "                1  2          1  2  3  4  5  6                1  2  3  4\n",
      " 3  4  5  6  7  8  9       7  8  9 10 11 12 13       5  6  7  8  9 10 11\n",
      "10 11 12 13 14 15 16      14 15 16 17 18 19 20      12 13 14 15 16 17 18\n",
      "17 18 19 20 21 22 23      21 22 23 24 25 26 27      19 20 21 22 23 24 25\n",
      "24 25 26 27 28 29 30      28 29 30                  26 27 28 29 30 31\n",
      "31\n",
      "\n"
     ]
    }
   ],
   "source": [
    "# 3. Write a Python program to display calendar?\n",
    "import calendar\n",
    "\n",
    "Year = int(input(\"enter year of the calender\"))\n",
    "print(calendar.calendar(Year))"
   ]
  },
  {
   "cell_type": "code",
   "execution_count": 20,
   "id": "2cde126d",
   "metadata": {},
   "outputs": [
    {
     "name": "stdout",
     "output_type": "stream",
     "text": [
      "enter a,b,c of quadratic equation1\n",
      "2\n",
      "3\n",
      "Roots are Imaginary (-1-1.4142135623730951j) (-1+1.4142135623730951j)\n"
     ]
    }
   ],
   "source": [
    "#4. Write a Python program to solve quadratic equation?\n",
    "import math\n",
    "import cmath\n",
    "a = float(input(\"enter a,b,c of quadratic equation\"))\n",
    "b = float(input())\n",
    "c = float(input())\n",
    "\n",
    "dis = (b*b -4*a*c)\n",
    "\n",
    "if dis == 0:\n",
    "        r1 = -b/2*a\n",
    "        r2 = -b/2*a\n",
    "        print(\"Roots are Real\",r1,r2)\n",
    "elif dis > 0:\n",
    "        r1 = (-b-math.sqrt(dis))/(2 * a)\n",
    "        r2 = (-b+math.sqrt(dis))/(2 * a)\n",
    "        print(\"Roots are Real and different\",r1,r2)\n",
    "else:\n",
    "        r1 = (-b-cmath.sqrt(dis))/(2 * a)\n",
    "        r2 = (-b+cmath.sqrt(dis))/(2 * a)\n",
    "        print(\"Roots are Imaginary\",r1,r2)\n"
   ]
  },
  {
   "cell_type": "code",
   "execution_count": 21,
   "id": "4c5718d0",
   "metadata": {},
   "outputs": [
    {
     "name": "stdout",
     "output_type": "stream",
     "text": [
      "enter two variables 1\n",
      "2\n",
      "2.0 1.0\n"
     ]
    }
   ],
   "source": [
    "#5. Write a Python program to swap two variables without temp variable?\n",
    "b = float(input(\"enter two variables \"))\n",
    "c = float(input())\n",
    "[b,c] = [c,b]\n",
    "print(b,c)"
   ]
  }
 ],
 "metadata": {
  "kernelspec": {
   "display_name": "Python 3 (ipykernel)",
   "language": "python",
   "name": "python3"
  },
  "language_info": {
   "codemirror_mode": {
    "name": "ipython",
    "version": 3
   },
   "file_extension": ".py",
   "mimetype": "text/x-python",
   "name": "python",
   "nbconvert_exporter": "python",
   "pygments_lexer": "ipython3",
   "version": "3.9.12"
  }
 },
 "nbformat": 4,
 "nbformat_minor": 5
}
