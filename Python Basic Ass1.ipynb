{
 "cells": [
  {
   "cell_type": "code",
   "execution_count": 5,
   "id": "7a5e8851",
   "metadata": {},
   "outputs": [
    {
     "data": {
      "text/plain": [
       "\"\\n1. In the below elements which of them are values or an expression? eg:- values can be integer or string and expressions will be mathematical operators.\\n*   --> expression\\n'hello'  -->value\\n-87.8     -->value\\n-   --> expression\\n/   --> expression\\n+   --> expression\\n6    -->value\\n\""
      ]
     },
     "execution_count": 5,
     "metadata": {},
     "output_type": "execute_result"
    }
   ],
   "source": [
    "\"\"\"\n",
    "1. In the below elements which of them are values or an expression? eg:- values can be integer or string and expressions will be mathematical operators.\n",
    "*   --> expression\n",
    "'hello'  -->value\n",
    "-87.8     -->value\n",
    "-   --> expression\n",
    "/   --> expression\n",
    "+   --> expression\n",
    "6    -->value\n",
    "-----------------------------------\n",
    "2. What is the difference between string and variable?\n",
    " String is collection of characters/words. \n",
    " Variable is a collection of value/s.\n",
    "------------------------------------\n",
    "3. Describe three different data types.\n",
    "int\n",
    "float\n",
    "string\n",
    "list\n",
    "tuple\n",
    "set\n",
    "dictinory \n",
    "---------------------------------------\n",
    "4. What is an expression made up of? What do all expressions do?\n",
    "expression is made of variable which are compared logically. \n",
    "All expressions return give logival True/False.\n",
    "----------------------------------------\n",
    "\n",
    "5. This assignment statements, like spam = 10. What is the difference between an expression and a statement?\n",
    "Expression has values and mathematical operators.\n",
    "Statement is like a command like type, print etc\n",
    "--------------------------------------\n",
    "6. After running the following code, what does the variable bacon contain?\n",
    "bacon = 22\n",
    "bacon + 1\n",
    "\n",
    "23\n",
    "-------------------------------------\n",
    "7. What should the values of the following two terms be?\n",
    "'spam' + 'spamspam'\n",
    "'spam' * 3\n",
    "'spamspamspam'\n",
    "------------------------------------\n",
    "8. Why is eggs a valid variable name while 100 is invalid?\n",
    "variable name can not be just number.\n",
    "---------------------------\n",
    "9. What three functions can be used to get the integer, floating-point number, or string version of a value?\n",
    "int(),float(),string()\n",
    "---------------------------\n",
    "10. Why does this expression cause an error? How can you fix it?\n",
    "'I have eaten ' + 99 + ' burritos.'\n",
    "\n",
    "Sting can not be concatinated with integer. By chnaging 99 to '99' willnot cause error\n",
    "\n",
    "\"\"\"\n"
   ]
  },
  {
   "cell_type": "code",
   "execution_count": 8,
   "id": "0bc8caf8",
   "metadata": {},
   "outputs": [
    {
     "data": {
      "text/plain": [
       "23"
      ]
     },
     "execution_count": 8,
     "metadata": {},
     "output_type": "execute_result"
    }
   ],
   "source": [
    "#6 \n",
    "bacon = 22\n",
    "bacon + 1"
   ]
  },
  {
   "cell_type": "code",
   "execution_count": 9,
   "id": "7a527de9",
   "metadata": {},
   "outputs": [
    {
     "data": {
      "text/plain": [
       "'spamspamspam'"
      ]
     },
     "execution_count": 9,
     "metadata": {},
     "output_type": "execute_result"
    }
   ],
   "source": [
    "#7\n",
    "'spam' + 'spamspam'\n",
    "'spam' * 3"
   ]
  }
 ],
 "metadata": {
  "kernelspec": {
   "display_name": "Python 3 (ipykernel)",
   "language": "python",
   "name": "python3"
  },
  "language_info": {
   "codemirror_mode": {
    "name": "ipython",
    "version": 3
   },
   "file_extension": ".py",
   "mimetype": "text/x-python",
   "name": "python",
   "nbconvert_exporter": "python",
   "pygments_lexer": "ipython3",
   "version": "3.9.12"
  }
 },
 "nbformat": 4,
 "nbformat_minor": 5
}
